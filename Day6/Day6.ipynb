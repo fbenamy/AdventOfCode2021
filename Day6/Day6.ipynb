{
 "cells": [
  {
   "cell_type": "code",
   "execution_count": 7,
   "metadata": {},
   "outputs": [],
   "source": [
    "import numpy as np"
   ]
  },
  {
   "cell_type": "code",
   "execution_count": 1,
   "metadata": {},
   "outputs": [],
   "source": [
    "input_day6_1 = open('input_day6_1.txt', 'r')\n",
    "starting_school = input_day6_1.read()"
   ]
  },
  {
   "cell_type": "code",
   "execution_count": 2,
   "metadata": {},
   "outputs": [],
   "source": [
    "starting_school = starting_school.split(',')\n",
    "starting_school = [int(x) for x in starting_school]"
   ]
  },
  {
   "cell_type": "code",
   "execution_count": 3,
   "metadata": {},
   "outputs": [],
   "source": [
    "class LanternFish:\n",
    "    def __init__(self, cycle_day):\n",
    "        self.day = cycle_day\n",
    "    \n",
    "    def spawn(self):\n",
    "        self.day = 6\n",
    "        new_school.append(LanternFish(8))\n",
    "        \n",
    "    def age(self):\n",
    "        self.day = self.day - 1\n",
    "        if self.day == -1:\n",
    "            self.spawn()\n",
    "        "
   ]
  },
  {
   "cell_type": "code",
   "execution_count": 4,
   "metadata": {},
   "outputs": [],
   "source": [
    "def num_fish(starting_school,days):\n",
    "    starting_days = days\n",
    "    school = []\n",
    "    for fish_day in starting_school:\n",
    "        school.append(LanternFish(fish_day))\n",
    "    count_days = days\n",
    "    while count_days > 0:\n",
    "        count_days = count_days - 1 \n",
    "        global new_school\n",
    "        new_school = []\n",
    "        for fish in school:\n",
    "            fish.age()\n",
    "        school.extend(new_school)\n",
    "    num_fish = len(school)\n",
    "    print(f'The Number of Lanternfish after {starting_days} days is {num_fish}')"
   ]
  },
  {
   "cell_type": "code",
   "execution_count": 161,
   "metadata": {},
   "outputs": [
    {
     "name": "stdout",
     "output_type": "stream",
     "text": [
      "The Number of Lanternfish after 80 days is 346063\n"
     ]
    }
   ],
   "source": [
    "num_fish(starting_school, days=80)"
   ]
  },
  {
   "cell_type": "code",
   "execution_count": 32,
   "metadata": {},
   "outputs": [],
   "source": [
    "fish_system = np.array([[0, 1, 0, 0, 0, 0, 0, 0, 0],\n",
    "                        [0, 0, 1, 0, 0, 0, 0, 0, 0],\n",
    "                        [0, 0, 0, 1, 0, 0, 0, 0, 0],\n",
    "                        [0, 0, 0, 0, 1, 0, 0, 0, 0],\n",
    "                        [0, 0, 0, 0, 0, 1, 0, 0, 0],\n",
    "                        [0, 0, 0, 0, 0, 0, 1, 0, 0],\n",
    "                        [1, 0, 0, 0, 0, 0, 0, 1, 0],\n",
    "                        [0, 0, 0, 0, 0, 0, 0, 0, 1],\n",
    "                        [1, 0, 0, 0, 0, 0, 0, 0, 0]])"
   ]
  },
  {
   "cell_type": "code",
   "execution_count": 33,
   "metadata": {},
   "outputs": [],
   "source": [
    "fish_state_0 = np.array([starting_school.count(0), starting_school.count(1),  starting_school.count(2), \n",
    "                         starting_school.count(3),  starting_school.count(4),  starting_school.count(5), \n",
    "                        starting_school.count(6), 0, 0])"
   ]
  },
  {
   "cell_type": "code",
   "execution_count": 50,
   "metadata": {},
   "outputs": [
    {
     "data": {
      "text/plain": [
       "1572358335990"
      ]
     },
     "execution_count": 50,
     "metadata": {},
     "output_type": "execute_result"
    }
   ],
   "source": [
    "np.sum(np.matmul(np.linalg.matrix_power(fish_system, 256), fish_state_0))"
   ]
  }
 ],
 "metadata": {
  "kernelspec": {
   "display_name": "Python 3",
   "language": "python",
   "name": "python3"
  },
  "language_info": {
   "codemirror_mode": {
    "name": "ipython",
    "version": 3
   },
   "file_extension": ".py",
   "mimetype": "text/x-python",
   "name": "python",
   "nbconvert_exporter": "python",
   "pygments_lexer": "ipython3",
   "version": "3.8.5"
  }
 },
 "nbformat": 4,
 "nbformat_minor": 4
}
