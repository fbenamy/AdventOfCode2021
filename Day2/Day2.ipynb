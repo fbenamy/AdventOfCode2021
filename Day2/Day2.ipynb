{
 "cells": [
  {
   "cell_type": "code",
   "execution_count": 9,
   "metadata": {},
   "outputs": [],
   "source": [
    "input_day2_1 = open('input_day2_1.txt','r')\n",
    "directions = input_day2_1.read().split('\\n')"
   ]
  },
  {
   "cell_type": "code",
   "execution_count": 26,
   "metadata": {},
   "outputs": [],
   "source": [
    "#directions have weird trailing elipses that aren't an action\n",
    "clean_directions = directions[0:-1]"
   ]
  },
  {
   "cell_type": "markdown",
   "metadata": {},
   "source": [
    "## Problem 1 \n",
    "\n",
    "A direction of 'forward' increases your horizonal position by the number following it. A direction of 'down' increases your depth position by the number following it. A direction of 'up' decreases your depth position by the number following it. \n",
    "\n",
    "If you follow the provided list of directions, what is your horizonal position multipled by your depth position? "
   ]
  },
  {
   "cell_type": "code",
   "execution_count": 23,
   "metadata": {},
   "outputs": [],
   "source": [
    "def follow_directions(directions):\n",
    "    horizontal = 0\n",
    "    depth = 0 \n",
    "    for direction in directions:\n",
    "        orientation, step_size = direction.split()\n",
    "        step_size = int(step_size)\n",
    "        if orientation == \"forward\":\n",
    "            horizontal = horizontal + step_size\n",
    "        elif orientation == \"down\":\n",
    "            depth = depth + step_size\n",
    "        elif orientation == \"up\":\n",
    "            depth = depth - step_size\n",
    "        else:\n",
    "            print(\"bad directions\")\n",
    "            break\n",
    "    print(f'Horizontal Position: {horizontal}')\n",
    "    print(f'Depth Position: {depth}')\n",
    "    return [horizontal, depth]"
   ]
  },
  {
   "cell_type": "code",
   "execution_count": 24,
   "metadata": {},
   "outputs": [
    {
     "name": "stdout",
     "output_type": "stream",
     "text": [
      "Horizontal Position: 2018\n",
      "Depth Position: 820\n"
     ]
    }
   ],
   "source": [
    "horizontal, depth = follow_directions(clean_directions)"
   ]
  },
  {
   "cell_type": "code",
   "execution_count": 25,
   "metadata": {},
   "outputs": [
    {
     "data": {
      "text/plain": [
       "1654760"
      ]
     },
     "execution_count": 25,
     "metadata": {},
     "output_type": "execute_result"
    }
   ],
   "source": [
    "horizontal * depth"
   ]
  },
  {
   "cell_type": "markdown",
   "metadata": {},
   "source": [
    "## Problem 2\n",
    "\n",
    "Your initial instructions were wrong. A new value, \"aim\" is added. Now a direction of 'forward' increases your horizonal position by the number following it and your depth position by that number multipled by your aim. A direction of 'down' increases your aim value by the number following it. A direction of 'up' decreases your aim value by the number following it.\n",
    "\n",
    "If you follow the provided list of directions, what is your horizonal position multipled by your depth position?\n"
   ]
  },
  {
   "cell_type": "code",
   "execution_count": 31,
   "metadata": {},
   "outputs": [],
   "source": [
    "def improved_directions(directions):\n",
    "    horizontal = 0\n",
    "    depth = 0 \n",
    " `   aim = 0\n",
    "    for direction in directions:\n",
    "        orientation, step_size = direction.split()\n",
    "        step_size = int(step_size)\n",
    "        if orientation == \"forward\":\n",
    "            horizontal = horizontal + step_size\n",
    "            depth = depth + (step_size * aim)\n",
    "        elif orientation == \"down\":\n",
    "            aim = aim + step_size\n",
    "        elif orientation == \"up\":\n",
    "            aim = aim - step_size\n",
    "        else:\n",
    "            print(\"bad directions\")\n",
    "            break\n",
    "    print(f'Horizontal Position: {horizontal}')\n",
    "    print(f'Depth Position: {depth}')\n",
    "    return [horizontal, depth]"
   ]
  },
  {
   "cell_type": "code",
   "execution_count": 32,
   "metadata": {},
   "outputs": [
    {
     "name": "stdout",
     "output_type": "stream",
     "text": [
      "Horizontal Position: 2018\n",
      "Depth Position: 969300\n"
     ]
    }
   ],
   "source": [
    "horizontal, depth = improved_directions(clean_directions)"
   ]
  },
  {
   "cell_type": "code",
   "execution_count": 33,
   "metadata": {},
   "outputs": [
    {
     "data": {
      "text/plain": [
       "1956047400"
      ]
     },
     "execution_count": 33,
     "metadata": {},
     "output_type": "execute_result"
    }
   ],
   "source": [
    "horizontal * depth"
   ]
  }
 ],
 "metadata": {
  "kernelspec": {
   "display_name": "Python 3",
   "language": "python",
   "name": "python3"
  },
  "language_info": {
   "codemirror_mode": {
    "name": "ipython",
    "version": 3
   },
   "file_extension": ".py",
   "mimetype": "text/x-python",
   "name": "python",
   "nbconvert_exporter": "python",
   "pygments_lexer": "ipython3",
   "version": "3.8.5"
  }
 },
 "nbformat": 4,
 "nbformat_minor": 4
}
