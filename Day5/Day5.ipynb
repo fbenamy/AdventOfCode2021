{
 "cells": [
  {
   "cell_type": "code",
   "execution_count": 85,
   "metadata": {},
   "outputs": [],
   "source": [
    "import numpy as np\n",
    "from collections import namedtuple"
   ]
  },
  {
   "cell_type": "code",
   "execution_count": 86,
   "metadata": {},
   "outputs": [],
   "source": [
    "input_day5_1 = open('input_day5_1.txt', 'r')\n",
    "coords = input_day5_1.readlines()\n",
    "input_day5_1.close()"
   ]
  },
  {
   "cell_type": "code",
   "execution_count": 87,
   "metadata": {},
   "outputs": [],
   "source": [
    "coords_no_newline = [coord.replace('\\n', '') for coord in coords]\n",
    "coords_no_arrow = [coord.replace(' -> ', ',') for coord in coords_no_newline]\n",
    "coords_list = [coord.split(',') for coord in coords_no_arrow]\n",
    "coords_int = [[int(value) for value in coord] for coord in coords_list ]"
   ]
  },
  {
   "cell_type": "code",
   "execution_count": 38,
   "metadata": {},
   "outputs": [],
   "source": [
    "Point = namedtuple('Point','x y')\n",
    "coords_tuple = [[Point(coord[0],coord[1]), Point(coord[2], coord[3])] for coord in coords_int]"
   ]
  },
  {
   "cell_type": "code",
   "execution_count": 41,
   "metadata": {},
   "outputs": [],
   "source": [
    "coords_p1 = [coords for coords in coords_tuple if ((coords[0].x == coords[1].x) or (coords[0].y == coords[1].y))]"
   ]
  },
  {
   "cell_type": "code",
   "execution_count": 91,
   "metadata": {},
   "outputs": [],
   "source": [
    "def get_intercepts_p1(coords_p1):  \n",
    "    intercept_dict = {}\n",
    "    for coords in coords_p1:\n",
    "        vents = intercept_dict.keys()\n",
    "        if coords[0].x == coords[1].x:  \n",
    "            max_y = max([coords[0].y, coords[1].y])\n",
    "            min_y = min([coords[0].y, coords[1].y])\n",
    "            x = coords[0].x\n",
    "            for step in range(max_y - min_y + 1):\n",
    "                y = min_y + step\n",
    "                if (x,y) in vents:\n",
    "                    intercept_dict[(x,y)] += 1\n",
    "                else:\n",
    "                    intercept_dict[(x,y)] = 1\n",
    "        elif coords[0].y == coords[1].y:\n",
    "            max_x = max([coords[0].x, coords[1].x])\n",
    "            min_x = min([coords[0].x, coords[1].x])\n",
    "            y = coords[0].y\n",
    "            for step in range(max_x - min_x + 1):\n",
    "                x = min_x + step\n",
    "                if (x,y) in vents:\n",
    "                    intercept_dict[(x,y)] += 1\n",
    "                else:\n",
    "                    intercept_dict[(x,y)] = 1\n",
    "    interceptions = {key:value for key,value in intercept_dict.items() if value >= 2}\n",
    "    num_interceptions = len(interceptions)\n",
    "    print(f'The number of vent interceptions is: {num_interceptions}')"
   ]
  },
  {
   "cell_type": "code",
   "execution_count": 93,
   "metadata": {},
   "outputs": [
    {
     "name": "stdout",
     "output_type": "stream",
     "text": [
      "The number of vent interceptions is: 7297\n"
     ]
    }
   ],
   "source": [
    "get_intercepts_p1(coords_p1)"
   ]
  },
  {
   "cell_type": "code",
   "execution_count": 98,
   "metadata": {},
   "outputs": [],
   "source": [
    "def get_intercepts_p2(coords_tuple):  \n",
    "    intercept_dict = {}\n",
    "    for coords in coords_tuple:\n",
    "        vents = intercept_dict.keys()\n",
    "        if coords[0].x == coords[1].x:  \n",
    "            max_y = max([coords[0].y, coords[1].y])\n",
    "            min_y = min([coords[0].y, coords[1].y])\n",
    "            x = coords[0].x\n",
    "            for step in range(max_y - min_y + 1):\n",
    "                y = min_y + step\n",
    "                if (x,y) in vents:\n",
    "                    intercept_dict[(x,y)] += 1\n",
    "                else:\n",
    "                    intercept_dict[(x,y)] = 1\n",
    "        elif coords[0].y == coords[1].y:\n",
    "            max_x = max([coords[0].x, coords[1].x])\n",
    "            min_x = min([coords[0].x, coords[1].x])\n",
    "            y = coords[0].y\n",
    "            for step in range(max_x - min_x + 1):\n",
    "                x = min_x + step\n",
    "                if (x,y) in vents:\n",
    "                    intercept_dict[(x,y)] += 1\n",
    "                else:\n",
    "                    intercept_dict[(x,y)] = 1\n",
    "        else:\n",
    "            max_x = max([coords[0].x, coords[1].x])\n",
    "            min_x = min([coords[0].x, coords[1].x])\n",
    "            max_y = max([coords[0].y, coords[1].y])\n",
    "            min_y = min([coords[0].y, coords[1].y])\n",
    "            for step in range(max_x - min_x + 1):\n",
    "                if max_x == coords[1].x:\n",
    "                    if max_y == coords[1].y:\n",
    "                        x = coords[0].x + step\n",
    "                        y = coords[0].y + step\n",
    "                    else:\n",
    "                        x = coords[0].x + step\n",
    "                        y = coords[0].y - step\n",
    "                elif max_x == coords[0].x:\n",
    "                    if max_y == coords[1].y:\n",
    "                        x = coords[0].x - step\n",
    "                        y = coords[0].y + step\n",
    "                    else:\n",
    "                        x = coords[0].x - step\n",
    "                        y = coords[0].y - step\n",
    "                if (x,y) in vents:\n",
    "                    intercept_dict[(x,y)] += 1\n",
    "                else:\n",
    "                    intercept_dict[(x,y)] = 1\n",
    "    interceptions = {key:value for key,value in intercept_dict.items() if value >= 2}\n",
    "    num_interceptions = len(interceptions)\n",
    "    print(f'The number of vent interceptions is: {num_interceptions}')"
   ]
  },
  {
   "cell_type": "code",
   "execution_count": 99,
   "metadata": {},
   "outputs": [
    {
     "name": "stdout",
     "output_type": "stream",
     "text": [
      "The number of vent interceptions is: 21038\n"
     ]
    }
   ],
   "source": [
    "get_intercepts_p2(coords_tuple)"
   ]
  }
 ],
 "metadata": {
  "kernelspec": {
   "display_name": "Python 3",
   "language": "python",
   "name": "python3"
  },
  "language_info": {
   "codemirror_mode": {
    "name": "ipython",
    "version": 3
   },
   "file_extension": ".py",
   "mimetype": "text/x-python",
   "name": "python",
   "nbconvert_exporter": "python",
   "pygments_lexer": "ipython3",
   "version": "3.8.5"
  }
 },
 "nbformat": 4,
 "nbformat_minor": 4
}
