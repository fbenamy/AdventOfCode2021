{
 "cells": [
  {
   "cell_type": "code",
   "execution_count": 1,
   "metadata": {},
   "outputs": [],
   "source": [
    "import pandas as pd "
   ]
  },
  {
   "cell_type": "code",
   "execution_count": 10,
   "metadata": {},
   "outputs": [],
   "source": [
    "input_day3_1 = open('input_day3_1.txt', 'r')\n",
    "binary_output = input_day3_1.read().split()"
   ]
  },
  {
   "cell_type": "code",
   "execution_count": 21,
   "metadata": {},
   "outputs": [],
   "source": [
    "binary_split = [list(x) for x in binary_output]"
   ]
  },
  {
   "cell_type": "code",
   "execution_count": 24,
   "metadata": {},
   "outputs": [],
   "source": [
    "binary_df = pd.DataFrame(binary_split)"
   ]
  },
  {
   "cell_type": "markdown",
   "metadata": {},
   "source": [
    "## Problem 1 \n",
    "\n",
    "Find the \"gamma rate\" and \"epsilon rate\". The gamma rate is found by getting the most common number in each binary column. The epsilon rate is found by getting the least common number in each binary column. Covert the binary rates to decimal and multiple them to get the power consumption rate. "
   ]
  },
  {
   "cell_type": "code",
   "execution_count": 171,
   "metadata": {},
   "outputs": [],
   "source": [
    "def get_rates(binary_df):\n",
    "    gamma = ''\n",
    "    epsilon = ''\n",
    "    for column in binary_df:\n",
    "        freq_df = binary_df[column].value_counts()\n",
    "        most_freq = freq_df[freq_df == (max(freq_df))].index.values[0]\n",
    "        least_freq = freq_df[freq_df == (min(freq_df))].index.values[0]\n",
    "        gamma = gamma + most_freq\n",
    "        epsilon = epsilon + least_freq\n",
    "    return [gamma, epsilon]"
   ]
  },
  {
   "cell_type": "code",
   "execution_count": 172,
   "metadata": {},
   "outputs": [],
   "source": [
    "gamma, epsilon = get_rates(binary_df)"
   ]
  },
  {
   "cell_type": "code",
   "execution_count": 173,
   "metadata": {},
   "outputs": [],
   "source": [
    "def power_consumption(gamma, epsilon):\n",
    "    gamma_dec = int(gamma, 2)\n",
    "    epsilon_dec = int(epsilon, 2)\n",
    "    power_consumption = gamma_dec * epsilon_dec \n",
    "    print(f'Power Consumption: {power_consumption}')"
   ]
  },
  {
   "cell_type": "code",
   "execution_count": 174,
   "metadata": {},
   "outputs": [
    {
     "name": "stdout",
     "output_type": "stream",
     "text": [
      "Power Consumption: 3374136\n"
     ]
    }
   ],
   "source": [
    "power_consumption(gamma, epsilon) "
   ]
  },
  {
   "cell_type": "markdown",
   "metadata": {},
   "source": [
    "## Problem 2\n",
    "\n",
    "Find the \"oxygen consumption rate\" and \"co2 scrubbing rate\". The oxygen rate is found by starting at the left most position and filtering on most common number in each binary column until a single number remains. If the most common number is a tie, '1' is considered the most common number.  The co2 rate is found by starting at the left most position and filtering on most least number in each binary column until a single number remains. Covert the binary rates to decimal and multiple them to get the life support rate. "
   ]
  },
  {
   "cell_type": "code",
   "execution_count": 175,
   "metadata": {},
   "outputs": [],
   "source": [
    "def life_support_filter(binary_df):\n",
    "    oxygen_df = binary_df\n",
    "    co2_df = binary_df\n",
    "    for column in oxygen_df:\n",
    "        freq_df = oxygen_df[column].value_counts()\n",
    "        most_freq = freq_df[freq_df == max(freq_df)].index.values[0]\n",
    "        if max(freq_df) == min(freq_df):\n",
    "            most_freq = '1'\n",
    "        oxygen_df = oxygen_df[oxygen_df[column] == most_freq]\n",
    "        if len(oxygen_df) == 1:\n",
    "            oxygen = ''.join(oxygen_df.values[0])\n",
    "            break\n",
    "    for column in co2_df:\n",
    "        freq_df = co2_df[column].value_counts()\n",
    "        least_freq = freq_df[freq_df == min(freq_df)].index.values[0]\n",
    "        if max(freq_df) == min(freq_df):\n",
    "            least_freq = '0'\n",
    "        co2_df = co2_df[co2_df[column] == least_freq]\n",
    "        if len(co2_df) == 1:\n",
    "            co2 = ''.join(co2_df.values[0])\n",
    "            break\n",
    "    return [oxygen, co2]"
   ]
  },
  {
   "cell_type": "code",
   "execution_count": 177,
   "metadata": {},
   "outputs": [],
   "source": [
    "oxygen, co2 = life_support_filter(binary_df)"
   ]
  },
  {
   "cell_type": "code",
   "execution_count": 178,
   "metadata": {
    "scrolled": true
   },
   "outputs": [],
   "source": [
    "def life_support_rate(oxygen, co2):\n",
    "    oxygen_dec = int(oxygen, 2)\n",
    "    co2_dec = int(co2, 2)\n",
    "    life_support = oxygen_dec * co2_dec\n",
    "    print(f'Life Support Rate: {life_support}')"
   ]
  },
  {
   "cell_type": "code",
   "execution_count": 179,
   "metadata": {},
   "outputs": [
    {
     "name": "stdout",
     "output_type": "stream",
     "text": [
      "Life Support Rate: 4432698\n"
     ]
    }
   ],
   "source": [
    "life_support_rate(oxygen, co2)"
   ]
  }
 ],
 "metadata": {
  "kernelspec": {
   "display_name": "Python 3",
   "language": "python",
   "name": "python3"
  },
  "language_info": {
   "codemirror_mode": {
    "name": "ipython",
    "version": 3
   },
   "file_extension": ".py",
   "mimetype": "text/x-python",
   "name": "python",
   "nbconvert_exporter": "python",
   "pygments_lexer": "ipython3",
   "version": "3.8.5"
  }
 },
 "nbformat": 4,
 "nbformat_minor": 4
}
