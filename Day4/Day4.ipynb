{
 "cells": [
  {
   "cell_type": "code",
   "execution_count": 44,
   "metadata": {},
   "outputs": [],
   "source": [
    "#copy is important of making deep copies of dictionarys\n",
    "import copy"
   ]
  },
  {
   "cell_type": "code",
   "execution_count": 45,
   "metadata": {},
   "outputs": [],
   "source": [
    "input_day4_1 = open('input_day4_1.txt', 'r')\n",
    "bingo_data = input_day4_1.read()"
   ]
  },
  {
   "cell_type": "code",
   "execution_count": 46,
   "metadata": {},
   "outputs": [],
   "source": [
    "bingo_split = bingo_data.splitlines()\n",
    "bingo_draw = bingo_split[0].split(',')\n",
    "bingo_cards = bingo_split[1:]"
   ]
  },
  {
   "cell_type": "code",
   "execution_count": 47,
   "metadata": {},
   "outputs": [],
   "source": [
    "for i in range(bingo_cards.count('')):\n",
    "    bingo_cards.remove('')\n",
    "bingo_cards = [row.split(' ') for row in bingo_cards]\n",
    "for row in bingo_cards:\n",
    "    for i in range(row.count('')):\n",
    "        row.remove('')"
   ]
  },
  {
   "cell_type": "markdown",
   "metadata": {},
   "source": [
    "## Problem 1 \n",
    "\n",
    "Given a set of 5 x 5 bingo cards and a set list of called numbered, which bingo card will win first? Only horizontal and vertical \"bingos\" count (no diagonal). The final score of a card is the sum of the uncalled numbers multiplied by the last number called. "
   ]
  },
  {
   "cell_type": "code",
   "execution_count": 48,
   "metadata": {},
   "outputs": [],
   "source": [
    "#create nested dictionary to hold bingo cards and keep track of row and column progress towards \"bingo\"\n",
    "bingo_dict = {}\n",
    "count = 0\n",
    "card_num = 0\n",
    "bingo_card = []\n",
    "for row in bingo_cards:\n",
    "    count = count + 1\n",
    "    bingo_card.append(row)\n",
    "    if count == 5:\n",
    "        count = 0\n",
    "        card_num = card_num + 1\n",
    "        card_num_str = str(card_num)\n",
    "        bingo_dict['card_' + card_num_str] = {}\n",
    "        bingo_dict['card_' + card_num_str]['card'] = bingo_card\n",
    "        bingo_dict['card_' + card_num_str]['row_1'] = 0\n",
    "        bingo_dict['card_' + card_num_str]['row_2'] = 0\n",
    "        bingo_dict['card_' + card_num_str]['row_3'] = 0\n",
    "        bingo_dict['card_' + card_num_str]['row_4'] = 0\n",
    "        bingo_dict['card_' + card_num_str]['row_5'] = 0\n",
    "        bingo_dict['card_' + card_num_str]['col_1'] = 0\n",
    "        bingo_dict['card_' + card_num_str]['col_2'] = 0\n",
    "        bingo_dict['card_' + card_num_str]['col_3'] = 0\n",
    "        bingo_dict['card_' + card_num_str]['col_4'] = 0\n",
    "        bingo_dict['card_' + card_num_str]['col_5'] = 0\n",
    "        bingo_card = []"
   ]
  },
  {
   "cell_type": "code",
   "execution_count": 49,
   "metadata": {},
   "outputs": [],
   "source": [
    "def play_bingo(bingo_draw, bingo_dict):\n",
    "    bingo = False\n",
    "    for i, draw in enumerate(bingo_draw):\n",
    "        for card_name in bingo_dict.keys():\n",
    "            row_count = 0\n",
    "            for row in bingo_dict[card_name]['card']:\n",
    "                row_count = row_count + 1\n",
    "                if draw in row:\n",
    "                    row_count_str = str(row_count)\n",
    "                    bingo_dict[card_name]['row_' + row_count_str] = bingo_dict[card_name]['row_' + row_count_str] + 1\n",
    "                    if  bingo_dict[card_name]['row_' + row_count_str] == 5:\n",
    "                        print(f'BINGO!!! row: {row} {card_name} {i}')\n",
    "                        bingo = True\n",
    "                        break\n",
    "                    col_num = row.index(draw) + 1\n",
    "                    col_num_str = str(col_num)\n",
    "                    bingo_dict[card_name]['col_'+ col_num_str] = bingo_dict[card_name]['col_'+ col_num_str] + 1\n",
    "                    if bingo_dict[card_name]['col_'+ col_num_str] == 5:\n",
    "                        print(f'BINGO!!! {card_name}')\n",
    "                        bingo = True\n",
    "                        break\n",
    "            if bingo:\n",
    "                break\n",
    "        if bingo:\n",
    "            break\n",
    "                         \n",
    "    drawn_cards = bingo_draw[0 : (i + 1)]\n",
    "    flattened_card = sum(bingo_dict[card_name]['card'], [])\n",
    "    uncalled_numbers = list(set(flattened_card) - set(drawn_cards))\n",
    "    score = sum([int(num) for num in uncalled_numbers]) * int(bingo_draw[i])\n",
    "    print(f'Score of: {score}')"
   ]
  },
  {
   "cell_type": "code",
   "execution_count": 50,
   "metadata": {},
   "outputs": [
    {
     "name": "stdout",
     "output_type": "stream",
     "text": [
      "BINGO!!! card_23\n",
      "Score of: 8136\n"
     ]
    }
   ],
   "source": [
    "bingo_dict_play = copy.deepcopy(bingo_dict)\n",
    "play_bingo(bingo_draw, bingo_dict_play)"
   ]
  },
  {
   "cell_type": "markdown",
   "metadata": {},
   "source": [
    "## Problem 2\n",
    "\n",
    "Given a set of 5 x 5 bingo cards and a set list of called numbered, which bingo card will win last? Only horizontal and vertical \"bingos\" count (no diagonal). The final score of a card is the sum of the uncalled numbers multiplied by the last number called.\n"
   ]
  },
  {
   "cell_type": "code",
   "execution_count": 51,
   "metadata": {},
   "outputs": [],
   "source": [
    "def last_win(bingo_draw, bingo_dict_copy):\n",
    "    game_over = False\n",
    "    for i, draw in enumerate(bingo_draw):\n",
    "        bingo_list = []\n",
    "        for card_name in bingo_dict.keys():\n",
    "            row_count = 0\n",
    "            bingo = False\n",
    "            for row in bingo_dict[card_name]['card']:\n",
    "                row_count = row_count + 1\n",
    "                if draw in row:\n",
    "                    row_count_str = str(row_count)\n",
    "                    col_num = row.index(draw) + 1\n",
    "                    col_num_str = str(col_num)\n",
    "                    bingo_dict[card_name]['col_'+ col_num_str] = bingo_dict[card_name]['col_'+ col_num_str] + 1\n",
    "                    bingo_dict[card_name]['row_' + row_count_str] = bingo_dict[card_name]['row_' + row_count_str] + 1\n",
    "                    if  bingo_dict[card_name]['row_' + row_count_str] == 5:    \n",
    "                        bingo = True\n",
    "                    elif bingo_dict[card_name]['col_'+ col_num_str] == 5:\n",
    "                        bingo = True\n",
    "                    if bingo:\n",
    "                        bingo_list.append(card_name)\n",
    "        if len(bingo_dict) > 1:\n",
    "            for won in bingo_list:\n",
    "                bingo_dict.pop(won)\n",
    "        elif bingo and (len(bingo_dict) == 1):\n",
    "            game_over = True\n",
    "            break\n",
    "        \n",
    "    drawn_cards = bingo_draw[0 : (i + 1)]\n",
    "    flattened_card = sum(bingo_dict[card_name]['card'], [])\n",
    "    uncalled_numbers = list(set(flattened_card) - set(drawn_cards))\n",
    "    score = sum([int(num) for num in uncalled_numbers]) * int(bingo_draw[i])\n",
    "    print(f'Last card to win: {card_name}')\n",
    "    print(f'Score of: {score}')"
   ]
  },
  {
   "cell_type": "code",
   "execution_count": 52,
   "metadata": {},
   "outputs": [
    {
     "name": "stdout",
     "output_type": "stream",
     "text": [
      "Last card to win: card_28\n",
      "Score of: 12738\n"
     ]
    }
   ],
   "source": [
    "bingo_dict_play = copy.deepcopy(bingo_dict)\n",
    "last_win(bingo_draw, bingo_dict_play)"
   ]
  }
 ],
 "metadata": {
  "kernelspec": {
   "display_name": "Python 3",
   "language": "python",
   "name": "python3"
  },
  "language_info": {
   "codemirror_mode": {
    "name": "ipython",
    "version": 3
   },
   "file_extension": ".py",
   "mimetype": "text/x-python",
   "name": "python",
   "nbconvert_exporter": "python",
   "pygments_lexer": "ipython3",
   "version": "3.8.5"
  }
 },
 "nbformat": 4,
 "nbformat_minor": 4
}
